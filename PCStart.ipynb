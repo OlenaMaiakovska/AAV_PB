{
 "cells": [
  {
   "cell_type": "markdown",
   "metadata": {},
   "source": [
    "# Welcome to PacBio Analysis!"
   ]
  },
  {
   "cell_type": "markdown",
   "metadata": {},
   "source": [
    "This repo contains an introduction to [PacBio](https://www.pacb.com) sequencing data analysis\n",
    "\n",
    "Outline of some basics:\n",
    "\n",
    "* [Notebook Basics](../examples/Notebook/Notebook%20Basics.ipynb)\n"
   ]
  },
  {
   "cell_type": "markdown",
   "metadata": {},
   "source": [
    "1. Installation of basic suits:\n",
    "    bioconda package:\n",
    "    \n",
    "    [conda](https://bioconda.github.io/user/install.html)\n",
    "\n",
    "    conda install pbccs \n",
    "    \n",
    "\n",
    "2. Generation of highly accurate circular consesnus sequence (CCS) reads, more HiFi reads (98% accuracy):\n",
    "\n",
    "    [CCS Software](https://ccs.how)\n",
    "    combines multiple subreads of the same SMRTbell molecule using a statistical model to produce one highly accurate consensus sequence, also called a HiFi read, along with base quality values. This tool powers the Circular Consensus Sequencing workflow in SMRT Link.\n",
    "\n",
    "Run on a full movie::\n",
    "\n",
    "     ccs movie.subreads.bam movie.ccs.bam \n",
    "\n",
    "Parallelize by using --chunk\n",
    "\n",
    "[Computational requirements](https://ccs.how/faq/performance#can-i-tune-performance-without-sacrificing-output-quality)\n"
   ]
  },
  {
   "cell_type": "markdown",
   "metadata": {},
   "source": [
    "3.Inspecting the output of ccs program:\n",
    "    \n",
    "[alignparse](https://jbloomlab.github.io/alignparse/alignparse.ccs.html)\n",
    "\n",
    "    ccs_stats {'length', 'passes', 'accuracy'} #Variable for which we get stats.\n",
    "    \n"
   ]
  },
  {
   "cell_type": "code",
   "execution_count": null,
   "metadata": {},
   "outputs": [],
   "source": [
    "4. "
   ]
  }
 ],
 "metadata": {
  "kernelspec": {
   "display_name": "Python 3",
   "language": "python",
   "name": "python3"
  },
  "language_info": {
   "codemirror_mode": {
    "name": "ipython",
    "version": 3
   },
   "file_extension": ".py",
   "mimetype": "text/x-python",
   "name": "python",
   "nbconvert_exporter": "python",
   "pygments_lexer": "ipython3",
   "version": "3.6.11"
  }
 },
 "nbformat": 4,
 "nbformat_minor": 2
}
